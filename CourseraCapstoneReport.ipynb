{
 "cells": [
  {
   "cell_type": "markdown",
   "metadata": {},
   "source": [
    "# Introduction"
   ]
  },
  {
   "cell_type": "markdown",
   "metadata": {},
   "source": [
    "Gentrification, on its face, is a natural and beneficial process of urban development: as an older, dilapidated community is renovated with new developments, an influx of wealthy homeowners and businesses soon follow. This in turn leads to further gentrification and the cycle continues until the region is completely changed economically, racially, and politically.\n",
    "\n",
    "But there is a darker side to gentrification, a series of hidden costs that muddy the dialogue surrounding the benefits of gentrification; as wealthy homeowners and businesses move into a community, house prices and their related costs, such as taxes and mortgages, markedly increase. These increased costs force out established residents into lower-income neighborhoods; the associated stress, tension, and friction that arises from such community displacement can often present itself as an uptick of crime, in particular violent crime.\n",
    "\n",
    "This report seeks to analyze and quantify the nature of gentrification in the neighborhoods of Atlanta, Georgia. It explains for social scientists the telltale signs of societal changes in the neighborhoods of Atlanta and how violent crime rates increase over time in the surrounding displacement communities. Additionally, for residents of Atlanta as well as potential homeowners of Atlanta, this report seeks to illuminate the regions that are most likely to become gentrified in the near future, as well as point out the regions to which those regions' residents may be displaced."
   ]
  },
  {
   "cell_type": "markdown",
   "metadata": {},
   "source": [
    "# Data"
   ]
  },
  {
   "cell_type": "markdown",
   "metadata": {},
   "source": [
    "There are two major datasets that will be dissected and analyzed in the process of understanding the dilemma of gentrification in Atlanta, Georgia:\n",
    "\n",
    "The first is the Foursquare location data. This is the location data as provided by the Foursquare API: it deals with the venues in a region as determined by latitude and longitude and will be primarily used to understand the changes in a community from a venue perspective during the process of gentrification.\n",
    "\n",
    "An example of Foursquare location data looks like such:"
   ]
  },
  {
   "cell_type": "markdown",
   "metadata": {},
   "source": [
    "```json\n",
    "{\n",
    "  \"meta\": {\n",
    "    \"code\": 200,\n",
    "    \"requestId\": \"5ac51d7e6a607143d811cecb\"\n",
    "  },\n",
    "  \"response\": {\n",
    "    \"venues\": [\n",
    "      {\n",
    "        \"id\": \"5642aef9498e51025cf4a7a5\",\n",
    "        \"name\": \"Mr. Purple\",\n",
    "        \"location\": {\n",
    "          \"address\": \"180 Orchard St\",\n",
    "          \"crossStreet\": \"btwn Houston & Stanton St\",\n",
    "          \"lat\": 40.72173744277209,\n",
    "          \"lng\": -73.98800687282996,\n",
    "          \"labeledLatLngs\": [\n",
    "            {\n",
    "              \"label\": \"display\",\n",
    "              \"lat\": 40.72173744277209,\n",
    "              \"lng\": -73.98800687282996\n",
    "            }\n",
    "          ],\n",
    "          \"distance\": 8,\n",
    "          \"postalCode\": \"10002\",\n",
    "          \"cc\": \"US\",\n",
    "          \"city\": \"New York\",\n",
    "          \"state\": \"NY\",\n",
    "          \"country\": \"United States\",\n",
    "          \"formattedAddress\": [\n",
    "            \"180 Orchard St (btwn Houston & Stanton St)\",\n",
    "            \"New York, NY 10002\",\n",
    "            \"United States\"\n",
    "          ]\n",
    "        },\n",
    "        \"categories\": [\n",
    "          {\n",
    "            \"id\": \"4bf58dd8d48988d1d5941735\",\n",
    "            \"name\": \"Hotel Bar\",\n",
    "            \"pluralName\": \"Hotel Bars\",\n",
    "            \"shortName\": \"Hotel Bar\",\n",
    "            \"icon\": {\n",
    "              \"prefix\": \"https://ss3.4sqi.net/img/categories_v2/travel/hotel_bar_\",\n",
    "              \"suffix\": \".png\"\n",
    "            },\n",
    "            \"primary\": true\n",
    "          }\n",
    "        ],\n",
    "        \"venuePage\": {\n",
    "          \"id\": \"150747252\"\n",
    "        }\n",
    "      }\n",
    "    ]\n",
    "  }\n",
    "}\n",
    "```"
   ]
  },
  {
   "cell_type": "markdown",
   "metadata": {},
   "source": [
    "This JSON object response contains an array of venues located within a set distance from the user, as determined by the latitude, longitude, and search distance in meters found in the request query parameters. Within each venue object in the array is a number of attributes that describe the venue, such as its name, address, exact latitudinal and longitudinal coordinates, and designated category of venue."
   ]
  },
  {
   "cell_type": "markdown",
   "metadata": {},
   "source": [
    "The second major dataset comes courtesy of [The Murder Accountability Project](http://www.murderdata.org/). This team of retired law enforcement investigators, investigative journalists, criminologists and other experts have compiled a database of crime data to both aid in accounting and solving unsolved homicides as well as proselytize the importance of reporting crime statistics. It details the following statistics of a homicide:\n",
    "\n",
    "* The year and month of the crime\n",
    "* The region or neighborhood in which the crime was committed\n",
    "* The status (solved/unsolved) of the crime\n",
    "* The victim's race and age\n",
    "* The relationship of the victim and perpetrator, if known\n",
    "* The murder weapon\n",
    "* The offender's number of offenses, if known\n",
    "* The offender's race and age, if known\n",
    "\n",
    "These details will help ascertain the areas in which violent crimes have increased and by what rate in the neighborhoods of metro Atlanta."
   ]
  },
  {
   "cell_type": "code",
   "execution_count": null,
   "metadata": {},
   "outputs": [],
   "source": []
  }
 ],
 "metadata": {
  "kernelspec": {
   "display_name": "Python 3",
   "language": "python",
   "name": "python3"
  },
  "language_info": {
   "codemirror_mode": {
    "name": "ipython",
    "version": 3
   },
   "file_extension": ".py",
   "mimetype": "text/x-python",
   "name": "python",
   "nbconvert_exporter": "python",
   "pygments_lexer": "ipython3",
   "version": "3.6.8"
  }
 },
 "nbformat": 4,
 "nbformat_minor": 2
}
